{
 "cells": [
  {
   "cell_type": "code",
   "execution_count": 15,
   "id": "8f13c3aa",
   "metadata": {},
   "outputs": [],
   "source": [
    "import os\n",
    "import sys\n",
    "\n",
    "project_root = os.path.abspath(\"..\")  # Adjust if your structure is different\n",
    "if project_root not in sys.path:\n",
    "    sys.path.append(project_root)"
   ]
  },
  {
   "cell_type": "code",
   "execution_count": 16,
   "id": "bd3c3ba6",
   "metadata": {},
   "outputs": [],
   "source": [
    "from utils.client import get_kfp_client\n",
    "client = get_kfp_client()"
   ]
  },
  {
   "cell_type": "code",
   "execution_count": null,
   "id": "12ce4948",
   "metadata": {},
   "outputs": [
    {
     "data": {
      "text/html": [
       "<a href=http://192.168.1.100:31380/#/pipelines/details/b9e395cf-e6af-4b04-acff-d59776f99f1c>Pipeline details</a>."
      ],
      "text/plain": [
       "<IPython.core.display.HTML object>"
      ]
     },
     "metadata": {},
     "output_type": "display_data"
    },
    {
     "data": {
      "text/plain": [
       "{'created_at': datetime.datetime(2025, 6, 16, 15, 47, 11, tzinfo=tzutc()),\n",
       " 'default_version': {'code_source_url': None,\n",
       "                     'created_at': datetime.datetime(2025, 6, 16, 15, 47, 11, tzinfo=tzutc()),\n",
       "                     'description': None,\n",
       "                     'id': 'b9e395cf-e6af-4b04-acff-d59776f99f1c',\n",
       "                     'name': 'IceCreamPipelinev2',\n",
       "                     'package_url': None,\n",
       "                     'parameters': [{'name': 'test_size', 'value': '0.2'},\n",
       "                                    {'name': 'random_state', 'value': '42'}],\n",
       "                     'resource_references': [{'key': {'id': 'b9e395cf-e6af-4b04-acff-d59776f99f1c',\n",
       "                                                      'type': 'PIPELINE'},\n",
       "                                              'name': None,\n",
       "                                              'relationship': 'OWNER'}]},\n",
       " 'description': None,\n",
       " 'error': None,\n",
       " 'id': 'b9e395cf-e6af-4b04-acff-d59776f99f1c',\n",
       " 'name': 'IceCreamPipelinev2',\n",
       " 'parameters': [{'name': 'test_size', 'value': '0.2'},\n",
       "                {'name': 'random_state', 'value': '42'}],\n",
       " 'resource_references': None,\n",
       " 'url': None}"
      ]
     },
     "execution_count": 17,
     "metadata": {},
     "output_type": "execute_result"
    }
   ],
   "source": [
    "client.upload_pipeline(\n",
    "    pipeline_package_path=\"../ice_cream_pipeline.yaml\",\n",
    "    pipeline_name=\"IceCreamPipelinev2\"\n",
    ")\n"
   ]
  },
  {
   "cell_type": "code",
   "execution_count": null,
   "id": "ef1b4406",
   "metadata": {},
   "outputs": [
    {
     "data": {
      "text/html": [
       "<a href=\"http://192.168.1.100:31380/#/experiments/details/0317f6ae-c700-418d-87f9-f663a845b5c9\" target=\"_blank\" >Experiment details</a>."
      ],
      "text/plain": [
       "<IPython.core.display.HTML object>"
      ]
     },
     "metadata": {},
     "output_type": "display_data"
    },
    {
     "data": {
      "text/html": [
       "<a href=\"http://192.168.1.100:31380/#/runs/details/37effa01-6460-413b-924a-0208595dc611\" target=\"_blank\" >Run details</a>."
      ],
      "text/plain": [
       "<IPython.core.display.HTML object>"
      ]
     },
     "metadata": {},
     "output_type": "display_data"
    },
    {
     "data": {
      "text/plain": [
       "RunPipelineResult(run_id=37effa01-6460-413b-924a-0208595dc611)"
      ]
     },
     "execution_count": 18,
     "metadata": {},
     "output_type": "execute_result"
    }
   ],
   "source": [
    "client.create_run_from_pipeline_package(\n",
    "    pipeline_file=\"../ice_cream_pipeline.yaml\",\n",
    "    arguments={},\n",
    "    run_name=\"IceCream-Runv2\"\n",
    ")\n"
   ]
  },
  {
   "cell_type": "code",
   "execution_count": null,
   "id": "4098ac65",
   "metadata": {},
   "outputs": [],
   "source": [
    "# kubectl patch mutatingwebhookconfiguration cache-webhook-kubeflow \\\n",
    "#   --type='json' \\\n",
    "#   -p='[{\n",
    "#     \"op\": \"replace\",\n",
    "#     \"path\": \"/webhooks/0/rules/0/operations/0\",\n",
    "#     \"value\": \"DELETE\"\n",
    "#   }]'\n"
   ]
  }
 ],
 "metadata": {
  "kernelspec": {
   "display_name": "kfp-env-py310",
   "language": "python",
   "name": "python3"
  },
  "language_info": {
   "codemirror_mode": {
    "name": "ipython",
    "version": 3
   },
   "file_extension": ".py",
   "mimetype": "text/x-python",
   "name": "python",
   "nbconvert_exporter": "python",
   "pygments_lexer": "ipython3",
   "version": "3.10.12"
  }
 },
 "nbformat": 4,
 "nbformat_minor": 5
}
